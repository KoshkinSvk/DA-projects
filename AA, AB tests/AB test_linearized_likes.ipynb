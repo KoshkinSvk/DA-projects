{
 "cells": [
  {
   "cell_type": "code",
   "execution_count": 8,
   "id": "7accf735-2de7-44ee-a499-5c3f888d396a",
   "metadata": {},
   "outputs": [
    {
     "data": {
      "text/html": [
       "<div>\n",
       "<style scoped>\n",
       "    .dataframe tbody tr th:only-of-type {\n",
       "        vertical-align: middle;\n",
       "    }\n",
       "\n",
       "    .dataframe tbody tr th {\n",
       "        vertical-align: top;\n",
       "    }\n",
       "\n",
       "    .dataframe thead th {\n",
       "        text-align: right;\n",
       "    }\n",
       "</style>\n",
       "<table border=\"1\" class=\"dataframe\">\n",
       "  <thead>\n",
       "    <tr style=\"text-align: right;\">\n",
       "      <th></th>\n",
       "      <th>exp_group</th>\n",
       "      <th>user_id</th>\n",
       "      <th>likes</th>\n",
       "      <th>views</th>\n",
       "      <th>ctr</th>\n",
       "    </tr>\n",
       "  </thead>\n",
       "  <tbody>\n",
       "    <tr>\n",
       "      <th>0</th>\n",
       "      <td>3</td>\n",
       "      <td>115383</td>\n",
       "      <td>9</td>\n",
       "      <td>30</td>\n",
       "      <td>0.300000</td>\n",
       "    </tr>\n",
       "    <tr>\n",
       "      <th>1</th>\n",
       "      <td>1</td>\n",
       "      <td>18392</td>\n",
       "      <td>7</td>\n",
       "      <td>32</td>\n",
       "      <td>0.218750</td>\n",
       "    </tr>\n",
       "    <tr>\n",
       "      <th>2</th>\n",
       "      <td>3</td>\n",
       "      <td>123580</td>\n",
       "      <td>13</td>\n",
       "      <td>48</td>\n",
       "      <td>0.270833</td>\n",
       "    </tr>\n",
       "    <tr>\n",
       "      <th>3</th>\n",
       "      <td>2</td>\n",
       "      <td>131473</td>\n",
       "      <td>14</td>\n",
       "      <td>134</td>\n",
       "      <td>0.104478</td>\n",
       "    </tr>\n",
       "    <tr>\n",
       "      <th>4</th>\n",
       "      <td>4</td>\n",
       "      <td>107323</td>\n",
       "      <td>5</td>\n",
       "      <td>31</td>\n",
       "      <td>0.161290</td>\n",
       "    </tr>\n",
       "    <tr>\n",
       "      <th>5</th>\n",
       "      <td>2</td>\n",
       "      <td>32420</td>\n",
       "      <td>26</td>\n",
       "      <td>128</td>\n",
       "      <td>0.203125</td>\n",
       "    </tr>\n",
       "    <tr>\n",
       "      <th>6</th>\n",
       "      <td>2</td>\n",
       "      <td>24239</td>\n",
       "      <td>40</td>\n",
       "      <td>90</td>\n",
       "      <td>0.444444</td>\n",
       "    </tr>\n",
       "    <tr>\n",
       "      <th>7</th>\n",
       "      <td>0</td>\n",
       "      <td>30319</td>\n",
       "      <td>21</td>\n",
       "      <td>110</td>\n",
       "      <td>0.190909</td>\n",
       "    </tr>\n",
       "    <tr>\n",
       "      <th>8</th>\n",
       "      <td>1</td>\n",
       "      <td>27443</td>\n",
       "      <td>2</td>\n",
       "      <td>29</td>\n",
       "      <td>0.068966</td>\n",
       "    </tr>\n",
       "    <tr>\n",
       "      <th>9</th>\n",
       "      <td>3</td>\n",
       "      <td>118359</td>\n",
       "      <td>7</td>\n",
       "      <td>38</td>\n",
       "      <td>0.184211</td>\n",
       "    </tr>\n",
       "  </tbody>\n",
       "</table>\n",
       "</div>"
      ],
      "text/plain": [
       "   exp_group  user_id  likes  views       ctr\n",
       "0          3   115383      9     30  0.300000\n",
       "1          1    18392      7     32  0.218750\n",
       "2          3   123580     13     48  0.270833\n",
       "3          2   131473     14    134  0.104478\n",
       "4          4   107323      5     31  0.161290\n",
       "5          2    32420     26    128  0.203125\n",
       "6          2    24239     40     90  0.444444\n",
       "7          0    30319     21    110  0.190909\n",
       "8          1    27443      2     29  0.068966\n",
       "9          3   118359      7     38  0.184211"
      ]
     },
     "execution_count": 8,
     "metadata": {},
     "output_type": "execute_result"
    }
   ],
   "source": [
    "import pandas as pd\n",
    "import pandahouse\n",
    "import numpy as np\n",
    "from scipy import stats\n",
    "import matplotlib.pyplot as plt\n",
    "import seaborn as sns\n",
    "from read_db.CH import Getch\n",
    "\n",
    "q = \"\"\"\n",
    "SELECT exp_group, \n",
    "       user_id,\n",
    "       countIf(action = 'like') as likes,\n",
    "       countIf(action = 'view') as views,\n",
    "       likes/views as ctr\n",
    "FROM {db}.feed_actions \n",
    "WHERE toDate(time) between '2022-04-04' and '2022-04-10'\n",
    "             \n",
    "GROUP BY exp_group, user_id\n",
    "\"\"\"\n",
    "\n",
    "df = Getch(q, db='simulator_20220420').df\n",
    "df.head(10)"
   ]
  },
  {
   "cell_type": "code",
   "execution_count": 9,
   "id": "b1ccff4c-be79-4650-a919-759347b5d76f",
   "metadata": {},
   "outputs": [
    {
     "data": {
      "text/html": [
       "<div>\n",
       "<style scoped>\n",
       "    .dataframe tbody tr th:only-of-type {\n",
       "        vertical-align: middle;\n",
       "    }\n",
       "\n",
       "    .dataframe tbody tr th {\n",
       "        vertical-align: top;\n",
       "    }\n",
       "\n",
       "    .dataframe thead th {\n",
       "        text-align: right;\n",
       "    }\n",
       "</style>\n",
       "<table border=\"1\" class=\"dataframe\">\n",
       "  <thead>\n",
       "    <tr style=\"text-align: right;\">\n",
       "      <th></th>\n",
       "      <th>user_id</th>\n",
       "      <th>likes</th>\n",
       "      <th>views</th>\n",
       "      <th>ctr</th>\n",
       "    </tr>\n",
       "    <tr>\n",
       "      <th>exp_group</th>\n",
       "      <th></th>\n",
       "      <th></th>\n",
       "      <th></th>\n",
       "      <th></th>\n",
       "    </tr>\n",
       "  </thead>\n",
       "  <tbody>\n",
       "    <tr>\n",
       "      <th>0</th>\n",
       "      <td>9999</td>\n",
       "      <td>9999</td>\n",
       "      <td>9999</td>\n",
       "      <td>9999</td>\n",
       "    </tr>\n",
       "    <tr>\n",
       "      <th>1</th>\n",
       "      <td>10079</td>\n",
       "      <td>10079</td>\n",
       "      <td>10079</td>\n",
       "      <td>10079</td>\n",
       "    </tr>\n",
       "    <tr>\n",
       "      <th>2</th>\n",
       "      <td>9952</td>\n",
       "      <td>9952</td>\n",
       "      <td>9952</td>\n",
       "      <td>9952</td>\n",
       "    </tr>\n",
       "    <tr>\n",
       "      <th>3</th>\n",
       "      <td>10049</td>\n",
       "      <td>10049</td>\n",
       "      <td>10049</td>\n",
       "      <td>10049</td>\n",
       "    </tr>\n",
       "    <tr>\n",
       "      <th>4</th>\n",
       "      <td>10070</td>\n",
       "      <td>10070</td>\n",
       "      <td>10070</td>\n",
       "      <td>10070</td>\n",
       "    </tr>\n",
       "  </tbody>\n",
       "</table>\n",
       "</div>"
      ],
      "text/plain": [
       "           user_id  likes  views    ctr\n",
       "exp_group                              \n",
       "0             9999   9999   9999   9999\n",
       "1            10079  10079  10079  10079\n",
       "2             9952   9952   9952   9952\n",
       "3            10049  10049  10049  10049\n",
       "4            10070  10070  10070  10070"
      ]
     },
     "execution_count": 9,
     "metadata": {},
     "output_type": "execute_result"
    }
   ],
   "source": [
    "df.groupby('exp_group').count()"
   ]
  },
  {
   "cell_type": "code",
   "execution_count": 17,
   "id": "4a1eef06-5ed6-4754-81c9-8c65fd55a45f",
   "metadata": {},
   "outputs": [],
   "source": [
    "cg1 = df[df['exp_group'] == 0]\n",
    "tg1 = df[df['exp_group'] == 3]\n",
    "cg2 = df[df['exp_group'] == 1]\n",
    "tg2 = df[df['exp_group'] == 2]"
   ]
  },
  {
   "cell_type": "code",
   "execution_count": 18,
   "id": "f66c577f-dd0c-405c-9963-410749ea72b2",
   "metadata": {},
   "outputs": [],
   "source": [
    "ctr_control_1 = cg1.likes.sum()/ cg1.views.sum()\n",
    "ctr_control_2 = cg2.likes.sum()/ cg2.views.sum()\n"
   ]
  },
  {
   "cell_type": "markdown",
   "id": "d6d05c14-5300-4b67-b125-31ffc4f940ad",
   "metadata": {},
   "source": [
    "### groups 0, 3"
   ]
  },
  {
   "cell_type": "code",
   "execution_count": 20,
   "id": "940cf64e-8dda-44ec-9837-ececa92b72f8",
   "metadata": {},
   "outputs": [
    {
     "name": "stderr",
     "output_type": "stream",
     "text": [
      "/tmp/ipykernel_124/2276889563.py:1: SettingWithCopyWarning: \n",
      "A value is trying to be set on a copy of a slice from a DataFrame.\n",
      "Try using .loc[row_indexer,col_indexer] = value instead\n",
      "\n",
      "See the caveats in the documentation: https://pandas.pydata.org/pandas-docs/stable/user_guide/indexing.html#returning-a-view-versus-a-copy\n",
      "  cg1['linearized_likes'] = cg1['likes'] - ctr_control_1*cg1['views']\n",
      "/tmp/ipykernel_124/2276889563.py:2: SettingWithCopyWarning: \n",
      "A value is trying to be set on a copy of a slice from a DataFrame.\n",
      "Try using .loc[row_indexer,col_indexer] = value instead\n",
      "\n",
      "See the caveats in the documentation: https://pandas.pydata.org/pandas-docs/stable/user_guide/indexing.html#returning-a-view-versus-a-copy\n",
      "  tg1['linearized_likes'] = tg1['likes'] - ctr_control_1*tg1['views']\n"
     ]
    }
   ],
   "source": [
    "cg1['linearized_likes'] = cg1['likes'] - ctr_control_1*cg1['views']\n",
    "tg1['linearized_likes'] = tg1['likes'] - ctr_control_1*tg1['views']"
   ]
  },
  {
   "cell_type": "code",
   "execution_count": 22,
   "id": "b4c32356-0b36-4315-9683-c3eedb3895d7",
   "metadata": {},
   "outputs": [
    {
     "data": {
      "text/plain": [
       "Ttest_indResult(statistic=-15.214995460903827, pvalue=5.4914249479690016e-52)"
      ]
     },
     "execution_count": 22,
     "metadata": {},
     "output_type": "execute_result"
    }
   ],
   "source": [
    "stats.ttest_ind(cg1.linearized_likes,\n",
    "                tg1.linearized_likes,\n",
    "                equal_var=False) # p value стало \"прокрашивать\" различие."
   ]
  },
  {
   "cell_type": "code",
   "execution_count": 43,
   "id": "bb885a1e-9a38-4124-8bd5-9381d85728e4",
   "metadata": {},
   "outputs": [
    {
     "data": {
      "text/plain": [
       "<AxesSubplot:xlabel='linearized_likes', ylabel='Count'>"
      ]
     },
     "execution_count": 43,
     "metadata": {},
     "output_type": "execute_result"
    },
    {
     "data": {
      "image/png": "[encoded data removed]",
      "text/plain": [
       "<Figure size 864x432 with 1 Axes>"
      ]
     },
     "metadata": {},
     "output_type": "display_data"
    }
   ],
   "source": [
    "sns.set()\n",
    "plt.figure(figsize = (12,6))\n",
    "sns.histplot(cg1, x = 'linearized_likes', alpha = 0.4, kde=False, color=\"purple\")\n",
    "sns.histplot(tg1, x = 'linearized_likes', alpha = 0.4, kde=False, color=\"green\")"
   ]
  },
  {
   "cell_type": "markdown",
   "id": "87ea36d0-dd8e-44db-a505-6969b3b37852",
   "metadata": {},
   "source": [
    "### group 1,2"
   ]
  },
  {
   "cell_type": "code",
   "execution_count": 39,
   "id": "9e5f2ae6-90f0-4c4a-bb01-05b6d339676a",
   "metadata": {},
   "outputs": [
    {
     "name": "stderr",
     "output_type": "stream",
     "text": [
      "/tmp/ipykernel_124/1164081196.py:1: SettingWithCopyWarning: \n",
      "A value is trying to be set on a copy of a slice from a DataFrame.\n",
      "Try using .loc[row_indexer,col_indexer] = value instead\n",
      "\n",
      "See the caveats in the documentation: https://pandas.pydata.org/pandas-docs/stable/user_guide/indexing.html#returning-a-view-versus-a-copy\n",
      "  cg2['linearized_likes'] = cg2['likes'] - ctr_control_2*cg2['views']\n",
      "/tmp/ipykernel_124/1164081196.py:2: SettingWithCopyWarning: \n",
      "A value is trying to be set on a copy of a slice from a DataFrame.\n",
      "Try using .loc[row_indexer,col_indexer] = value instead\n",
      "\n",
      "See the caveats in the documentation: https://pandas.pydata.org/pandas-docs/stable/user_guide/indexing.html#returning-a-view-versus-a-copy\n",
      "  tg2['linearized_likes'] = tg2['likes'] - ctr_control_2*tg2['views']\n"
     ]
    }
   ],
   "source": [
    "cg2['linearized_likes'] = cg2['likes'] - ctr_control_2*cg2['views']\n",
    "tg2['linearized_likes'] = tg2['likes'] - ctr_control_2*tg2['views']"
   ]
  },
  {
   "cell_type": "code",
   "execution_count": 40,
   "id": "8559ff1d-6b1e-49b6-8b55-a53f8c410e00",
   "metadata": {},
   "outputs": [
    {
     "data": {
      "text/plain": [
       "Ttest_indResult(statistic=6.122579994775974, pvalue=9.439432187037644e-10)"
      ]
     },
     "execution_count": 40,
     "metadata": {},
     "output_type": "execute_result"
    }
   ],
   "source": [
    "stats.ttest_ind(cg2.linearized_likes,\n",
    "                tg2.linearized_likes,\n",
    "                equal_var=False) # p value стало меньше."
   ]
  },
  {
   "cell_type": "code",
   "execution_count": 44,
   "id": "921ee696-1916-45bb-be7d-9574a256585f",
   "metadata": {},
   "outputs": [
    {
     "data": {
      "text/plain": [
       "<AxesSubplot:xlabel='linearized_likes', ylabel='Count'>"
      ]
     },
     "execution_count": 44,
     "metadata": {},
     "output_type": "execute_result"
    },
    {
     "data": {
      "image/png": "[encoded data removed]",
      "text/plain": [
       "<Figure size 864x432 with 1 Axes>"
      ]
     },
     "metadata": {},
     "output_type": "display_data"
    }
   ],
   "source": [
    "plt.figure(figsize = (12,6))\n",
    "sns.histplot(cg2, x = 'linearized_likes', alpha = 0.4, kde=False, color=\"purple\")\n",
    "sns.histplot(tg2, x = 'linearized_likes', alpha = 0.4, kde=False, color=\"green\") # метрика 2 группы нормализуется"
   ]
  },
  {
   "cell_type": "markdown",
   "id": "ef6d356a-5d93-4c33-94c3-9e478174d315",
   "metadata": {},
   "source": [
    "Вывод:\n",
    "Проанализировав результаты Т-теста по метрике линеаризованных лайков на группах обоих тестов, можно сделать вывод что данный тест показывает хорошие результаты как на \"плюс-минус\" нормализованных данных, так и на ненормализованных."
   ]
  }
 ],
 "metadata": {
  "kernelspec": {
   "display_name": "Python 3 (ipykernel)",
   "language": "python",
   "name": "python3"
  },
  "language_info": {
   "codemirror_mode": {
    "name": "ipython",
    "version": 3
   },
   "file_extension": ".py",
   "mimetype": "text/x-python",
   "name": "python",
   "nbconvert_exporter": "python",
   "pygments_lexer": "ipython3",
   "version": "3.8.10"
  }
 },
 "nbformat": 4,
 "nbformat_minor": 5
}
