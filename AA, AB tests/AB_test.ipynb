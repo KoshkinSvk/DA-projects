{
 "cells": [
  {
   "cell_type": "code",
   "execution_count": 1,
   "id": "efe17642-4828-4210-b0f9-0804361ecff4",
   "metadata": {},
   "outputs": [
    {
     "data": {
      "text/html": [
       "<div>\n",
       "<style scoped>\n",
       "    .dataframe tbody tr th:only-of-type {\n",
       "        vertical-align: middle;\n",
       "    }\n",
       "\n",
       "    .dataframe tbody tr th {\n",
       "        vertical-align: top;\n",
       "    }\n",
       "\n",
       "    .dataframe thead th {\n",
       "        text-align: right;\n",
       "    }\n",
       "</style>\n",
       "<table border=\"1\" class=\"dataframe\">\n",
       "  <thead>\n",
       "    <tr style=\"text-align: right;\">\n",
       "      <th></th>\n",
       "      <th>exp_group</th>\n",
       "      <th>user_id</th>\n",
       "      <th>likes</th>\n",
       "      <th>views</th>\n",
       "      <th>ctr</th>\n",
       "    </tr>\n",
       "  </thead>\n",
       "  <tbody>\n",
       "    <tr>\n",
       "      <th>0</th>\n",
       "      <td>1</td>\n",
       "      <td>109963</td>\n",
       "      <td>3</td>\n",
       "      <td>15</td>\n",
       "      <td>0.200000</td>\n",
       "    </tr>\n",
       "    <tr>\n",
       "      <th>1</th>\n",
       "      <td>1</td>\n",
       "      <td>26117</td>\n",
       "      <td>32</td>\n",
       "      <td>141</td>\n",
       "      <td>0.226950</td>\n",
       "    </tr>\n",
       "    <tr>\n",
       "      <th>2</th>\n",
       "      <td>1</td>\n",
       "      <td>138232</td>\n",
       "      <td>18</td>\n",
       "      <td>73</td>\n",
       "      <td>0.246575</td>\n",
       "    </tr>\n",
       "    <tr>\n",
       "      <th>3</th>\n",
       "      <td>1</td>\n",
       "      <td>26295</td>\n",
       "      <td>33</td>\n",
       "      <td>122</td>\n",
       "      <td>0.270492</td>\n",
       "    </tr>\n",
       "    <tr>\n",
       "      <th>4</th>\n",
       "      <td>1</td>\n",
       "      <td>18392</td>\n",
       "      <td>7</td>\n",
       "      <td>32</td>\n",
       "      <td>0.218750</td>\n",
       "    </tr>\n",
       "    <tr>\n",
       "      <th>5</th>\n",
       "      <td>2</td>\n",
       "      <td>131473</td>\n",
       "      <td>14</td>\n",
       "      <td>134</td>\n",
       "      <td>0.104478</td>\n",
       "    </tr>\n",
       "    <tr>\n",
       "      <th>6</th>\n",
       "      <td>2</td>\n",
       "      <td>23985</td>\n",
       "      <td>7</td>\n",
       "      <td>87</td>\n",
       "      <td>0.080460</td>\n",
       "    </tr>\n",
       "    <tr>\n",
       "      <th>7</th>\n",
       "      <td>2</td>\n",
       "      <td>24523</td>\n",
       "      <td>11</td>\n",
       "      <td>101</td>\n",
       "      <td>0.108911</td>\n",
       "    </tr>\n",
       "    <tr>\n",
       "      <th>8</th>\n",
       "      <td>2</td>\n",
       "      <td>32420</td>\n",
       "      <td>26</td>\n",
       "      <td>128</td>\n",
       "      <td>0.203125</td>\n",
       "    </tr>\n",
       "    <tr>\n",
       "      <th>9</th>\n",
       "      <td>2</td>\n",
       "      <td>24239</td>\n",
       "      <td>40</td>\n",
       "      <td>90</td>\n",
       "      <td>0.444444</td>\n",
       "    </tr>\n",
       "  </tbody>\n",
       "</table>\n",
       "</div>"
      ],
      "text/plain": [
       "   exp_group  user_id  likes  views       ctr\n",
       "0          1   109963      3     15  0.200000\n",
       "1          1    26117     32    141  0.226950\n",
       "2          1   138232     18     73  0.246575\n",
       "3          1    26295     33    122  0.270492\n",
       "4          1    18392      7     32  0.218750\n",
       "5          2   131473     14    134  0.104478\n",
       "6          2    23985      7     87  0.080460\n",
       "7          2    24523     11    101  0.108911\n",
       "8          2    32420     26    128  0.203125\n",
       "9          2    24239     40     90  0.444444"
      ]
     },
     "execution_count": 1,
     "metadata": {},
     "output_type": "execute_result"
    }
   ],
   "source": [
    "import pandas as pd\n",
    "import pandahouse\n",
    "import numpy as np\n",
    "from scipy import stats\n",
    "import matplotlib.pyplot as plt\n",
    "import seaborn as sns\n",
    "from read_db.CH import Getch\n",
    "\n",
    "q = \"\"\"\n",
    "SELECT exp_group, \n",
    "       user_id,\n",
    "       countIf(action = 'like') as likes,\n",
    "       countIf(action = 'view') as views,\n",
    "       likes/views as ctr\n",
    "FROM {db}.feed_actions \n",
    "WHERE toDate(time) between '2022-04-04' and '2022-04-10'\n",
    "        and exp_group in (1,2)\n",
    "GROUP BY exp_group, user_id\n",
    "\"\"\"\n",
    "\n",
    "df = Getch(q, db='simulator_20220420').df\n",
    "df.head(10)"
   ]
  },
  {
   "cell_type": "code",
   "execution_count": 2,
   "id": "74fe3114-d077-4b3b-9106-887554ce1a8b",
   "metadata": {},
   "outputs": [
    {
     "data": {
      "text/html": [
       "<div>\n",
       "<style scoped>\n",
       "    .dataframe tbody tr th:only-of-type {\n",
       "        vertical-align: middle;\n",
       "    }\n",
       "\n",
       "    .dataframe tbody tr th {\n",
       "        vertical-align: top;\n",
       "    }\n",
       "\n",
       "    .dataframe thead th {\n",
       "        text-align: right;\n",
       "    }\n",
       "</style>\n",
       "<table border=\"1\" class=\"dataframe\">\n",
       "  <thead>\n",
       "    <tr style=\"text-align: right;\">\n",
       "      <th></th>\n",
       "      <th>user_id</th>\n",
       "      <th>likes</th>\n",
       "      <th>views</th>\n",
       "      <th>ctr</th>\n",
       "    </tr>\n",
       "    <tr>\n",
       "      <th>exp_group</th>\n",
       "      <th></th>\n",
       "      <th></th>\n",
       "      <th></th>\n",
       "      <th></th>\n",
       "    </tr>\n",
       "  </thead>\n",
       "  <tbody>\n",
       "    <tr>\n",
       "      <th>1</th>\n",
       "      <td>10079</td>\n",
       "      <td>10079</td>\n",
       "      <td>10079</td>\n",
       "      <td>10079</td>\n",
       "    </tr>\n",
       "    <tr>\n",
       "      <th>2</th>\n",
       "      <td>9952</td>\n",
       "      <td>9952</td>\n",
       "      <td>9952</td>\n",
       "      <td>9952</td>\n",
       "    </tr>\n",
       "  </tbody>\n",
       "</table>\n",
       "</div>"
      ],
      "text/plain": [
       "           user_id  likes  views    ctr\n",
       "exp_group                              \n",
       "1            10079  10079  10079  10079\n",
       "2             9952   9952   9952   9952"
      ]
     },
     "execution_count": 2,
     "metadata": {},
     "output_type": "execute_result"
    }
   ],
   "source": [
    "df.groupby('exp_group').count()"
   ]
  },
  {
   "cell_type": "code",
   "execution_count": 3,
   "id": "16369de1-29e6-4b2e-b43e-7aec35ffb673",
   "metadata": {},
   "outputs": [
    {
     "data": {
      "text/plain": [
       "<AxesSubplot:xlabel='ctr', ylabel='Count'>"
      ]
     },
     "execution_count": 3,
     "metadata": {},
     "output_type": "execute_result"
    },
    {
     "data": {
      "image/png": "[encoded data removed]",
      "text/plain": [
       "<Figure size 1080x576 with 1 Axes>"
      ]
     },
     "metadata": {},
     "output_type": "display_data"
    }
   ],
   "source": [
    "sns.set()\n",
    "plt.figure(figsize = (15,8))\n",
    "sns.histplot(data = df, x = 'ctr', hue ='exp_group', palette=[\"C1\", \"C9\"]) # бимодальное распределние группы 2"
   ]
  },
  {
   "cell_type": "markdown",
   "id": "f5232c8d-0269-4bd6-a43b-064f86432bf2",
   "metadata": {},
   "source": [
    "### T-test"
   ]
  },
  {
   "cell_type": "code",
   "execution_count": 14,
   "id": "9fa7260d-e0db-4913-9734-2a5fe93d2430",
   "metadata": {},
   "outputs": [],
   "source": [
    "cg = df[df['exp_group'] == 1]\n",
    "tg = df[df['exp_group'] == 2]"
   ]
  },
  {
   "cell_type": "code",
   "execution_count": 15,
   "id": "37bc5782-10c3-4d01-b0c2-1ead52d039f5",
   "metadata": {},
   "outputs": [
    {
     "name": "stdout",
     "output_type": "stream",
     "text": [
      "0.21560459841296287 0.21441927347479375\n"
     ]
    }
   ],
   "source": [
    "print(cg.ctr.mean(), tg.ctr.mean()) #среднее почти не отличается "
   ]
  },
  {
   "cell_type": "code",
   "execution_count": 17,
   "id": "6c1647da-359e-4dee-a5c0-417c561c39fd",
   "metadata": {},
   "outputs": [
    {
     "data": {
      "text/plain": [
       "Ttest_indResult(statistic=-0.7094392041270485, pvalue=0.4780623130874935)"
      ]
     },
     "execution_count": 17,
     "metadata": {},
     "output_type": "execute_result"
    }
   ],
   "source": [
    "stats.ttest_ind(tg.ctr,\n",
    "                cg.ctr,\n",
    "                equal_var=False)    # по результатам Т-теста мы как будто бы не можем отвергнуть гипотезу,\n",
    "                                    # что средние равны - отличий нет. Однако, имея в распределении большие по модулю отклонения\n",
    "                                    # (жирные выбросы — часть распределения), мы также не можем быть уверены в \n",
    "                                    # корректности работы теста. "
   ]
  },
  {
   "cell_type": "markdown",
   "id": "a348f696-ed71-43f6-97f3-a122d10faffe",
   "metadata": {},
   "source": [
    "### MW_test"
   ]
  },
  {
   "cell_type": "code",
   "execution_count": 18,
   "id": "9128e772-ade2-4647-8f30-2112619af918",
   "metadata": {},
   "outputs": [
    {
     "name": "stdout",
     "output_type": "stream",
     "text": [
      "0.203125 0.1428571428571428\n"
     ]
    }
   ],
   "source": [
    "print(cg.ctr.median(), tg.ctr.median()) #  медианные значения отличаются"
   ]
  },
  {
   "cell_type": "code",
   "execution_count": 19,
   "id": "5226906f-7982-4c43-966e-73167629a89b",
   "metadata": {},
   "outputs": [
    {
     "data": {
      "text/plain": [
       "MannwhitneyuResult(statistic=56601260.5, pvalue=6.0376484617779035e-56)"
      ]
     },
     "execution_count": 19,
     "metadata": {},
     "output_type": "execute_result"
    }
   ],
   "source": [
    "stats.mannwhitneyu(cg.ctr, \n",
    "                   tg.ctr,\n",
    "                   alternative = 'two-sided') # получив такое pvalue, мы должны опровергуть нашу нулевую\n",
    "                                              # гипотезу что A>B = B>A d в наших группах"
   ]
  },
  {
   "cell_type": "markdown",
   "id": "4250e06d-37e5-42c8-ad5d-1f85922ea0af",
   "metadata": {},
   "source": [
    "### Poison bootstrap"
   ]
  },
  {
   "cell_type": "code",
   "execution_count": 25,
   "id": "506f469f-4e97-4d20-83f3-23f9a7279cbe",
   "metadata": {},
   "outputs": [],
   "source": [
    "def bootstrap(likes1, views1, likes2, views2, n_bootstrap=2000):\n",
    "\n",
    "    poisson_bootstraps1 = stats.poisson(1).rvs(\n",
    "        (n_bootstrap, len(likes1))).astype(np.int64)\n",
    "\n",
    "    poisson_bootstraps2 = stats.poisson(1).rvs(\n",
    "            (n_bootstrap, len(likes2))).astype(np.int64)\n",
    "    \n",
    "    globalCTR1 = (poisson_bootstraps1*likes1).sum(axis=1)/(poisson_bootstraps1*views1).sum(axis=1)\n",
    "    \n",
    "    globalCTR2 = (poisson_bootstraps2*likes2).sum(axis=1)/(poisson_bootstraps2*views2).sum(axis=1)\n",
    "\n",
    "    return globalCTR1, globalCTR2"
   ]
  },
  {
   "cell_type": "code",
   "execution_count": 29,
   "id": "cbd58ce5-f09b-4cd8-b718-d5dc254938e1",
   "metadata": {},
   "outputs": [],
   "source": [
    "likes1 = cg.likes.to_numpy()\n",
    "views1 = cg.views.to_numpy()\n",
    "likes2 = tg.likes.to_numpy()\n",
    "views2 = tg.views.to_numpy()"
   ]
  },
  {
   "cell_type": "code",
   "execution_count": 30,
   "id": "39365592-ed83-4b34-a3c3-4fed94f83c80",
   "metadata": {},
   "outputs": [],
   "source": [
    "ctr_cg, ctr_tg = bootstrap(likes1, views1, likes2, views2)"
   ]
  },
  {
   "cell_type": "code",
   "execution_count": 31,
   "id": "d7dab48b-a867-4d0d-9c9b-82422b2a9f12",
   "metadata": {},
   "outputs": [
    {
     "data": {
      "text/plain": [
       "<AxesSubplot:ylabel='Count'>"
      ]
     },
     "execution_count": 31,
     "metadata": {},
     "output_type": "execute_result"
    },
    {
     "data": {
      "image/png": "[encoded data removed]",
      "text/plain": [
       "<Figure size 432x288 with 1 Axes>"
      ]
     },
     "metadata": {},
     "output_type": "display_data"
    }
   ],
   "source": [
    "sns.histplot([ctr_cg, ctr_tg], bins=50) #  CTR контрольной группы больше"
   ]
  },
  {
   "cell_type": "markdown",
   "id": "c6ec7cf5-dbe5-4a5b-836e-5c777d948503",
   "metadata": {},
   "source": [
    "### Вывод:\n",
    "Сравнив результаты Т-теста, МУ-теста и пуассоновского бутстрепа, а также, взглянув на графики CTR, можно сделать вывод что CTR группы 2 стал хуже. \n",
    "### Рекомендации:\n",
    "Доработать агоритм, потому что график сдвинулся вправо, однако стал бимодальным."
   ]
  },
  {
   "cell_type": "code",
   "execution_count": null,
   "id": "1a09137f-2125-456c-a930-6cc3c1b967c2",
   "metadata": {},
   "outputs": [],
   "source": []
  }
 ],
 "metadata": {
  "kernelspec": {
   "display_name": "Python 3 (ipykernel)",
   "language": "python",
   "name": "python3"
  },
  "language_info": {
   "codemirror_mode": {
    "name": "ipython",
    "version": 3
   },
   "file_extension": ".py",
   "mimetype": "text/x-python",
   "name": "python",
   "nbconvert_exporter": "python",
   "pygments_lexer": "ipython3",
   "version": "3.8.10"
  }
 },
 "nbformat": 4,
 "nbformat_minor": 5
}
